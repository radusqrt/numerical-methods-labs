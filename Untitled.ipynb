{
 "cells": [
  {
   "cell_type": "markdown",
   "metadata": {},
   "source": [
    "## Metoda Suprarelaxării\n",
    "\n",
    "### Noțiuni generale:\n",
    "\n",
    "După cum s-a observat din metodele iterative prezentate anterior rata de convergenta depinde de raza spectrala a matricei \n",
    "asociate. Metoda suprarelaxării (SOR- Successive Over-Relaxation) își propune sa accelereze convergența prin alegerea unei\n",
    "matrici asociate cu raza spectrală minimă. Astfel, pentru gasirea unei metode cat mai rapid convergente se alege un \n",
    "parametru de relaxare \\$\\omega\\$:\n",
    "\n",
    "\\$A=N-P=N-\\omega N-P+\\omega N=(1-\\omega)N-(P-\\omega N)=N(\\omega)-P(\\omega) \\$\n",
    "\n",
    "### Alegerea matricelor\n",
    "Vom alege următoarele matrice:\n",
    "\n",
    "\\$\\$N(\\omega) = (1-\\omega)N  \\$\\$\n",
    "\\$\\$P(\\omega) = P-\\omega N\\$\\$ \n",
    "\\$\\$G(\\omega ) = N^{-1}(\\omega)P(\\omega)\\$\\$ \n",
    "\n",
    "În practică se face o altă alegere, astfel:\n",
    "\n",
    "\\$\\$N(\\omega) = (1/\\omega )D-L \\$\\$\n",
    "\\$\\$P(\\omega) = (1/\\omega-1)D + U \\$\\$\n",
    "\\$\\$G_\\omega=(D-\\omega L)^{-1}  [ (1-\\omega)D+\\omega U] \\$\\$\n",
    "\n",
    "Soluția sistemului se poate scrie sub forma:\n",
    "\\$\\$x_i^{(p+1)} = \\omega \\frac{b_i - \\sum_{j=1}^{i-1} a_{ij} x_j^{(p+1)} - \n",
    "\\sum_{j=i+1}^{n} a_{ij} x_j^{(p)}\n",
    "}{a_{ii}}\\+(1-\\omega)x_i^{(p)} \\$\\$"
   ]
  },
  {
   "cell_type": "markdown",
   "metadata": {},
   "source": [
    "Observații\n",
    "\n",
    "1.Metoda converge doar dacă \\$ \\omega \\$ aparține (0,2);\n",
    "\n",
    "2.Pentru 0<\\$ \\omega \\$<1  metoda se numește subrelaxare;\n",
    "\n",
    "3.Pentru 1<\\$ \\omega \\$  metoda se numeste suprarelaxare;\n",
    "\n",
    "4.Pentru \\$ \\omega \\$ = 1 SOR este echivalent cu Gauss-Seidel;\n",
    "\n",
    "5.A - pozitiv definita este conditie necesara, dar nu sufucienta;\n",
    "\n",
    "6.Daca A este o matrice pozitiv definită și 0<\\$\\omega\\$<2, atunci metoda SOR converge\n",
    "pentru orice alegere a aproximației inițiale \\$ x^{(0)} \\$;"
   ]
  },
  {
   "cell_type": "markdown",
   "metadata": {},
   "source": [
    "Exemplu de matrice pentru care SOR nu converge:"
   ]
  },
  {
   "cell_type": "code",
   "execution_count": null,
   "metadata": {},
   "outputs": [],
   "source": [
    "A = [4 1 2 0;\n",
    "    3 -2 0 -1;\n",
    "    -1 3 5 1;\n",
    "    2 1 0 5]\n",
    "det(A)"
   ]
  },
  {
   "cell_type": "markdown",
   "metadata": {},
   "source": [
    "Exemplu de matrice pentru care SOR converge:"
   ]
  },
  {
   "cell_type": "code",
   "execution_count": null,
   "metadata": {},
   "outputs": [],
   "source": [
    "A = [4 1 -1;\n",
    "    -1 3 1;\n",
    "    2 2 5;];\n",
    "b = [5; -4; 1];\n",
    "x0 = [0; 0; 0];\n",
    "tol= 0.01;\n",
    "max_iter = 20;\n",
    "w = 1.1;"
   ]
  },
  {
   "cell_type": "markdown",
   "metadata": {},
   "source": [
    "### Implementare"
   ]
  },
  {
   "cell_type": "code",
   "execution_count": 4,
   "metadata": {},
   "outputs": [
    {
     "ename": "SyntaxError",
     "evalue": "invalid syntax (<ipython-input-4-b665544ad236>, line 1)",
     "output_type": "error",
     "traceback": [
      "\u001b[0;36m  File \u001b[0;32m\"<ipython-input-4-b665544ad236>\"\u001b[0;36m, line \u001b[0;32m1\u001b[0m\n\u001b[0;31m    function [x step] = SOR(A, b, x0, tol, max_iter, w)\u001b[0m\n\u001b[0m                   ^\u001b[0m\n\u001b[0;31mSyntaxError\u001b[0m\u001b[0;31m:\u001b[0m invalid syntax\n"
     ]
    }
   ],
   "source": [
    "function [x step] = SOR(A, b, x0, tol, max_iter, w)\n",
    "    n = length(b);\n",
    "    %TODO verifica -> valoarea lui w\n",
    "    \n",
    "    %TODO verifica -> A converge\n",
    "    \n",
    "    %TODO implementare folosind formula cu sume\n",
    "    \n",
    "    for step = 1 : max_iter\n",
    "        %intereaza prin fiecare x(i)\n",
    "        for i = 1 : n\n",
    "            %TODO suma valorilor aflate la iteratia curenta\n",
    "            new_values_sum = 0; \n",
    "            \n",
    "            %TODO suma valorilor aflate la iteratia anterioara\n",
    "            old_values_sum = 0;\n",
    "            \n",
    "            x(i) = (b(i) - (old_values_sum + new_values_sum))/A(i,i);\n",
    "            % TODO calcularea lui x(i) folosind parametrul de relaxare\n",
    "            x(i) = 0;\n",
    "        endfor\n",
    "        \n",
    "        %daca valorile noi sunt destul de apropiate de cele de la pasul anterior\n",
    "        %am ajuns la solutia dorita\n",
    "        if norm(x-x0) < tol\n",
    "            break;\n",
    "        endif\n",
    "        \n",
    "        %inlocuirea valorilor vechi cu cele de la pasul curent\n",
    "        x0 = x;\n",
    "    endfor\n",
    "\n",
    "endfunction"
   ]
  },
  {
   "cell_type": "code",
   "execution_count": null,
   "metadata": {},
   "outputs": [],
   "source": []
  },
  {
   "cell_type": "code",
   "execution_count": null,
   "metadata": {},
   "outputs": [],
   "source": []
  }
 ],
 "metadata": {
  "kernelspec": {
   "display_name": "Octave",
   "language": "octave",
   "name": "octave"
  },
  "language_info": {
   "codemirror_mode": {
    "name": "ipython",
    "version": 2
   },
   "file_extension": ".py",
   "mimetype": "text/x-python",
   "name": "python",
   "nbconvert_exporter": "python",
   "pygments_lexer": "ipython2",
   "version": "2.7.12"
  }
 },
 "nbformat": 4,
 "nbformat_minor": 2
}
