{
 "cells": [
  {
   "cell_type": "markdown",
   "metadata": {},
   "source": [
    "# Laborator 9 - Interpolari\n",
    " _Lumea este continua, dar mintea e discreta_ - **David Mumford**, laureat al Medaliei Fields (1974)\n",
    " \n",
    "## De ce?\n",
    "\n",
    "Lumea observabila este mereu continua, pe cand datele masurate nu pot fi altfel decat discrete, deoarece acestea nu pot fi masurate decat punctual, in anumite momente de timp. De aici apare o problema:\n",
    "> Cum corelam ceea ce masuram cu ce se intampla in realitate?\n",
    "\n",
    "Mai exact, daca avem nevoie de valori ale fenomenului studiat la momente de timp in care nu s-au facut masuratori, ce facem? Simplu: interpolam rezultatele masuratorilor si **aproximam** rezultatele dorite. Trebuie observat si ca majoritatea functiilor matematice care modeleaza fenomene intalnite in natura sunt **continue.**\n",
    "\n",
    "Exemple de situatii in care se folosesc interpolari:\n",
    "\n",
    "- senzorii de temperatura de pe plava video / procesor, ofera date discrete, care se interpoleaza si se obtin grafice\n",
    "- egalizatoarele de sunet: se seteaza anumite frecvente, valorile intermediare fiind deduse numeric\n",
    "- statistica: calcule la bursele de valori, predictii de profit si dezvoltare financiara\n",
    "- captare de semnale WiFi, radar, radio etc.\n",
    "- AutoCAD\n",
    "- jocuri, streaming"
   ]
  },
  {
   "cell_type": "markdown",
   "metadata": {},
   "source": [
    "## Cum se face?\n",
    "\n",
    "Functia de interpolat este data printr-un set de puncte de pe graficul acesteia, numite **suportul interpolarii**:\n",
    "\n",
    "$$\\{(x_0,\\ f(x_0)),\\ (x_1,\\ f(x_1)), \\dots, (x_n,\\ f(x_n))\\}$$.\n",
    "\n",
    "Prin interpolare, se determina una sau mai multe **functii (adesea polinomiale)** ce aproximeaza valorile functiei, cu o eroare acceptabila.\n",
    "\n",
    "De ce polinoame?\n",
    "\n",
    "- sunt usor de retinut in memoria calculatorului (de ex.: un vector in care se retin coeficientii $a_0, a_1, \\dots, a_n$ corespunzatori termenilor $x^0, x^1, \\dots, x^n$ ai polinomului);\n",
    "\n",
    "- sunt usor de derivat si integrat numeric, de catre un calculator;\n",
    "\n",
    "- sunt flexibile, iar modificand coeficientii sau gradul se pot modela in multiple moduri."
   ]
  },
  {
   "cell_type": "markdown",
   "metadata": {},
   "source": [
    "### De ce putem face asta?\n",
    "\n",
    "Datorita **Teoremei lui Weierstrass**:  \n",
    "$ \\forall \\ f : [a, b] \\rightarrow \\mathbb{R}$ continua si $a, b \\in \\mathbb{R}$, atunci $\\forall \\varepsilon > 0$, exista un polinom $P(x)$ de grad suficient de mare astfel incat\n",
    "urmatoarea relatie sa fie valabila $\\forall x \\in [a, b]$:\n",
    "$$|f(x) - P(x)| < \\varepsilon$$\n",
    "\n",
    "Cu alte cuvinte, **orice functie continua pe un interval poate fi aproximata cu un polinom, cu o eroare oricat de mica**.\n",
    "\n",
    "![ref](Teorema_lui_Weierstrass.png 'Aproximarea lui f conform Teoremei lui Weierstrass')\n",
    "\n",
    "\n",
    "Un rezultat cunoscut ce ilustreaza aceasta teorema este **descompunerea in serie Taylor (exemplificata in anexa)**:\n",
    "\n",
    "Totusi, interpolarea folosind serii Taylor nu se foloseste. De ce?\n",
    "\n",
    "- aceasta interpolare concentreaza informatia in jurul punctului $t$, iar pe masura ce ne departam de el, erorile devin mari;\n",
    "- din acest motiv, pentru orice nou punct $x$ ar fi nevoie de recalcularea polinomului Taylor intr-o vecinatatea a acestui $x$, ceea ce ar necesita o complexitate de calcul prea mare;\n",
    "- insasi calcularea polinomului este problematica: presupune calcularea de derivate de ordin mare, acestea fiind operatii costisitoare din punctul de vedere al timpului de executie, daca se doresc precizii mari."
   ]
  },
  {
   "cell_type": "markdown",
   "metadata": {},
   "source": [
    "## Concluzii generale\n",
    "Asadar, de la interpolari ne dorim, in general:\n",
    "- ca prin calcularea functiilor necesare o singura data, acestea sa ofere aproximari cu erori mici (de un ordin acceptabil) pentru orice puncte din domeniul de interpolare;\n",
    "- ca functiile obtinute sa fie polinomiale\n",
    "- complexitati cat mai mici pentru o anumita precizie - duh!"
   ]
  },
  {
   "cell_type": "markdown",
   "metadata": {},
   "source": [
    "## Anexa - aproximarea folosind descompunerea in serie Taylor \n",
    "\n",
    "Fie $f:[a,b] \\rightarrow \\mathbb{R}$, continua si $f \\in C^{n + 1}((a, b))$, atunci pentru orice $x \\in [a, b]$ si $\\forall t \\in [a, b]$, $\\exists \\ \\xi \\in (t, x)$ astfel incat:\n",
    "\n",
    "$$f(x) = f(t) + \\frac{(x - t)}{1!}f'(t) + \\frac{(x - t)^2}{2!}f''(t) + \\dots + \\frac{(x-t)^n}{n!}f^{(n)}(t) + \\frac{(x - t)^{n + 1}}{(n + 1)!}f^{(n + 1)}(\\xi)$$\n",
    "\n",
    "Notand $P_n(x) = \\displaystyle\\sum_\\limits{i = 0}^{n}\\frac{(x - t)^i}{i!}f^{(i)}(x - t)$ si $R_n(x) = \\displaystyle\\frac{(x - t)^{n + 1}}{(n + 1)!}f^{(n + 1)}(\\xi)$, polinomul de interpolare, respectiv eroarea interpolarii, s-ar poate spune ca descompunerea in serie Taylor reprezinta o metoda buna de interpolare:\n",
    "\n",
    "![ref2](Taylor.png 'Aproximarea lui e^x cu descompunere in serie Taylor in jurul lui t = 0')"
   ]
  }
 ],
 "metadata": {
  "kernelspec": {
   "display_name": "Octave",
   "language": "octave",
   "name": "octave"
  },
  "language_info": {
   "file_extension": ".m",
   "help_links": [
    {
     "text": "GNU Octave",
     "url": "https://www.gnu.org/software/octave/support.html"
    },
    {
     "text": "Octave Kernel",
     "url": "https://github.com/Calysto/octave_kernel"
    },
    {
     "text": "MetaKernel Magics",
     "url": "https://github.com/calysto/metakernel/blob/master/metakernel/magics/README.md"
    }
   ],
   "mimetype": "text/x-octave",
   "name": "octave",
   "version": "4.2.2"
  }
 },
 "nbformat": 4,
 "nbformat_minor": 2
}
