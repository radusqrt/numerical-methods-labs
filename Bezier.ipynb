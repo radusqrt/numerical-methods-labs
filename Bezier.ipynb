{
 "cells": [
  {
   "cell_type": "markdown",
   "metadata": {},
   "source": [
    "# Curbe Bézier\n",
    "\n",
    "O curba Bézier este o curba parametrica ce are la baza polinoamele Bernstein, fiind folosita in grafica pe calculator.\n",
    "Dandu-se un set de n+1 puncte de control $P_0, P_1, ..., P_n$, o curba  Bézier este definita prin urmatoarea relatie:\n",
    "$$B(n) = \\sum_{i = 0}^{n} P_i B_{i, n}(t), \\; t \\in [0, 1],$$\n",
    "unde $B_{i, n}(t)$ este un polinom Bernstein de grad n.\n",
    "\n",
    "## Polinoame Bernstein\n",
    "\n",
    "Un polinom Bernstein de grad n este definit astfel:\n",
    "$$B_{i, n}(t) = \\binom{n}{i} (1-t)^{(n-i)} t^i$$\n",
    "pentru $i = \\overline{0, n}$, unde  $$\\binom{n}{i} = \\frac{n!}{i! (n-i)!}$$\n",
    "\n",
    "### Proprietatile polinoamelor Bernstein\n",
    "- sunt nenegative pe intervalul [0, 1]: $B_{i, n}(t) \\geq 0$\n",
    "- polinoamele Bernstein de grad n formeaza o partitie a unitatii: $\\sum_{i=0}^{n} B_{i, n}(t) = (1 - t + t)^n = 1$\n",
    "- simetrie: $B_{i, n}(t) = B_{n - i, n}(1 - t)$\n",
    "- respecta formula de recurenta: $B_{i, n}(t) = (1 - t)B_{i,  n - 1}(t) + t B_{i - 1, n - 1}(t)$\n",
    "- functia $B_{i, n}(t)$ are pe intervalul [0, 1] un punct de maxim $t = \\frac{i}{n}$\n",
    "\n",
    "## Proprietatile unei curbe Bézier\n",
    "- nu trece prin toate punctele de control, ci doar prin $P_0$ si $P_n$ ($B(0) = P_0$ si $B(1) = P_n$);\n",
    "- este tangenta segmentelor $P_0P_1$ si $P_{n-1}P_{n}$;\n",
    "- este continuta complet in infasuratoarea convexa a punctelor de control;\n",
    "- este liniare doar daca punctele de control sunt coliniare\n",
    "- poate fi descompusa in alte 2 curbe Bézier."
   ]
  },
  {
   "cell_type": "markdown",
   "metadata": {},
   "source": [
    "#### Curbe Bézier liniare:\n",
    "$$B(t) = (1-t)P_0 + tP_1$$\n",
    "\n",
    "![ref](Bézier_1.gif)"
   ]
  },
  {
   "cell_type": "code",
   "execution_count": null,
   "metadata": {},
   "outputs": [],
   "source": [
    "pt1 = [ 5; -10];\n",
    "pt2 = [45; 15];\n",
    "\n",
    "% plotare puncte\n",
    "plot(pt1(1), pt1(2), '*');\n",
    "hold on;\n",
    "plot(pt2(1), pt2(2), '*');\n",
    "hold on;\n",
    "\n",
    "xlim([0 50]);\n",
    "axis equal;\n",
    "\n",
    "% ecuatia parametrica\n",
    "t = linspace(0, 1, 101);\n",
    "pts = kron((1 - t), pt1) + kron(t ,pt2);\n",
    "\n",
    "% plotare curba\n",
    "plot(pts(1, :), pts(2, :));\n",
    "hold off"
   ]
  },
  {
   "cell_type": "markdown",
   "metadata": {},
   "source": [
    "#### Curbe Bézier cuadratice:\n",
    "$$B(t) = (1-t)^2P_0 + 2t(1-t)P_1 + t^2P_2$$\n",
    "![ref](Bézier_2.gif)"
   ]
  },
  {
   "cell_type": "code",
   "execution_count": null,
   "metadata": {},
   "outputs": [],
   "source": [
    "pt1 = [ 5; -10];\n",
    "pt2 = [18; 18];\n",
    "pt3 = [45; 15];\n",
    "\n",
    "% plotare puncte\n",
    "plot(pt1(1), pt1(2), '*');\n",
    "hold on;\n",
    "plot(pt2(1), pt2(2), '*');\n",
    "hold on;\n",
    "plot(pt3(1), pt3(2), '*');\n",
    "hold on;\n",
    "\n",
    "xlim([0 50]);\n",
    "axis equal;\n",
    "\n",
    "% ecuatia parametrica\n",
    "t = linspace(0, 1, 101);\n",
    "pts = kron((1 - t) .^ 2, pt1) + kron(2 * (1 - t) .* t, pt2) + kron(t .^ 2, pt3);\n",
    "\n",
    "% plotare curba\n",
    "plot(pts(1, :), pts(2, :));\n",
    "hold off"
   ]
  },
  {
   "cell_type": "markdown",
   "metadata": {},
   "source": [
    "#### Curbe Bézier cubice:\n",
    "$$B(t) = (1-t)^3P_0 + 3t(1-t)^2P_1 + t^2(1-t)P_2 + t^3P_3$$\n",
    "![ref](Bézier_3.gif)"
   ]
  },
  {
   "cell_type": "code",
   "execution_count": null,
   "metadata": {},
   "outputs": [],
   "source": [
    "pt1 = [ 5; -10];\n",
    "pt2 = [18; 18];\n",
    "pt3 = [38; -5];\n",
    "pt4 = [45; 15];\n",
    "\n",
    "% plotare puncte\n",
    "plot(pt1(1), pt1(2), '*');\n",
    "hold on;\n",
    "plot(pt2(1), pt2(2), '*');\n",
    "hold on;\n",
    "plot(pt3(1), pt3(2), '*');\n",
    "hold on;\n",
    "plot(pt4(1), pt4(2), '*');\n",
    "hold on;\n",
    "\n",
    "xlim([0 50]);\n",
    "axis equal;\n",
    "\n",
    "% ecuatia parametrica\n",
    "t = linspace(0, 1, 101);\n",
    "pts = kron((1 - t) .^ 3, pt1) + kron(3 * (1 - t) .^ 2 .* t, pt2) + kron(3 * (1 - t) .* t .^ 2, pt3) + kron(t .^ 3, pt4);\n",
    "\n",
    "% plotare curba\n",
    "plot(pts(1, :), pts(2, :));\n",
    "hold off"
   ]
  },
  {
   "cell_type": "markdown",
   "metadata": {},
   "source": [
    "Pentru a vedea mai multe animatii ale curbelor Bézier, puteti accesa urmatorul link:\n",
    "https://www.jasondavies.com/animated-bezier/.\n",
    "\n",
    "Totusi, folosirea ecuatiei parametrice este instabila numeric, intrucat se pot ridica la puteri mari numere mici. Un mod eficient de a rezolva aceasta problema este folosirea algoritmului De Casteljau, care poate fi privit ca o interpolare liniara repetata."
   ]
  },
  {
   "cell_type": "markdown",
   "metadata": {},
   "source": [
    "# Algoritmul De Casteljau\n",
    "\n",
    "Pentru a construi o curba Bézier se foloseste proprietatea ca orice curba de acest tip poate fi impartita doua curbe Bézier. Pentru acest lucru este nevoie sa gasim doua seturi de puncte de control pentru cele doua noi curbe.\n",
    "\n",
    "Se foloseste urmatoarea relatie de recurenta, unde i reprezinta indicele punctului de control si j pasul:\n",
    "$$P_i^{(0)} = P_i, \\; i = \\overline{0,n}$$\n",
    "$$P_i^{(j)} =P_i^{(j-1)}(1-t) + P_{i+1}^{(j-1)}t \\; i = \\overline{0,n-j} ; j = \\overline{1,n}$$\n",
    "$$B(t) = P_0^{(n)}$$\n",
    "\n",
    "Fie $P_i^{0}$ si $P_{i+1}^{0}$ doua puncte de control succesive si $P_i^{1}$ un punct care imparte segmentul $P_i^{0}P_{i+1}^{0}$ in raportul t/(1-t) (raportul intre distanta dintre $P_i^{0}$ si $P_i^{1}$ si cea dintre $P_i^{0}$ si $P_{i+1}^{0}$ e t). Rezulta urmatoarea relatie:\n",
    "$$P_i^{1} = P_i^{0} + t(P_{i+1}^{0} - P_i^0) = (1-t)P_i^0 + tP_{i+1}^0$$\n",
    "\n",
    "Pornind de la poligonul $P_{0}^{0}$, $P_{1}^{0}$, ..., $P_{n}^{0}$ si aplicand relatia de mai sus, rezulta poligonul $P_{0}^{1}$, $P_{1}^{1}$, ..., $P_{n-1}^{1}$, apoi $P_{0}^{02}$, $P_{1}^{2}$, ..., $P_{n-2}^{2}$, pentru ca in final sa se obtina punctul $P_{0}^{n}$, fiind un punct de pe curba Bézier.\n",
    "\n",
    "Pentru n = 3, algoritmul De Casteljau este ilustrat in urmatorea schema:\n",
    "\n",
    "![ref](deCasteljou.PNG)"
   ]
  },
  {
   "cell_type": "markdown",
   "metadata": {},
   "source": [
    "Completati urmatoarea bucata de cod pentru a calcula un punct de pe o curba Bézier, folosind algoritmul prezentat anterior:"
   ]
  },
  {
   "cell_type": "code",
   "execution_count": null,
   "metadata": {},
   "outputs": [],
   "source": [
    "\t% coordonatele punctelor de control\n",
    "    x_original = [1 0.7 2.7 3.7];\n",
    "\ty_original = [0.5 2 2 0.5];\n",
    "\n",
    "\tk = 1;\n",
    "\tn = length(x_original);\n",
    "\tB_x = zeros();\n",
    "\tB_y = zeros();\n",
    "\thold off; \n",
    "\t\t\n",
    "\tfor t = 0 : 0.2 : 1\n",
    "        % plotare puncte de control\n",
    "\t\tplot(x_original, y_original, 'k-o');\n",
    "\t\tlegend ('puncte de control');\n",
    "\t\thold on;\n",
    "\n",
    "\t\taxis([0.5, 4.5, 0.2, 2.1]);\n",
    "\n",
    "\t\tx = x_original;\n",
    "\t\ty = y_original;\n",
    "\n",
    "        % De Casteljau\n",
    "\t\tfor j = 1 : n - 1\n",
    "\t\t\tfor i = 1 : n - j \n",
    "                % TODO: P(i, j) = (1-t) * P(i, j - 1) + t * P(i + 1, j - 1)\n",
    "\t\t\tendfor\n",
    "\t\t\n",
    "\t\t\tplot(x(1 : n - j), y(1 : n - j), 'r-*');\n",
    "\t\t\thold on;\n",
    "\t\t\n",
    "\t\tendfor\n",
    "\n",
    "        % plotare puncte de pe curba Bezier\n",
    "\t\tB_x(k) = x(1);\n",
    "\t\tB_y(k) = y(1);\n",
    "\t\tplot(B_x, B_y, 'b-s');\n",
    "\t\tlegend ('puncte calculate', 'puncte aflate pe curba Bezier');\n",
    "\t\tk++;\n",
    "\t\t\n",
    "\t\tpause(0.5);\n",
    "\t\thold off;\n",
    "\tendfor\t\n",
    "\t"
   ]
  }
 ],
 "metadata": {
  "kernelspec": {
   "display_name": "Octave",
   "language": "octave",
   "name": "octave"
  },
  "language_info": {
   "file_extension": ".m",
   "help_links": [
    {
     "text": "GNU Octave",
     "url": "https://www.gnu.org/software/octave/support.html"
    },
    {
     "text": "Octave Kernel",
     "url": "https://github.com/Calysto/octave_kernel"
    },
    {
     "text": "MetaKernel Magics",
     "url": "https://github.com/calysto/metakernel/blob/master/metakernel/magics/README.md"
    }
   ],
   "mimetype": "text/x-octave",
   "name": "octave",
   "version": "4.0.0"
  }
 },
 "nbformat": 4,
 "nbformat_minor": 2
}
