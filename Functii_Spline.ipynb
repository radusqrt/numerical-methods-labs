{
 "cells": [
  {
   "cell_type": "markdown",
   "metadata": {},
   "source": [
    "# Interpolare cu functii Spline\n",
    "\n",
    "## De ce?\n",
    "\n",
    "Pana acum am analizat 2 metode de interpolare ce aveau ca rezultat un singur polinom ce trecea prin toate punctele date. Ce probleme apareau?\n",
    "- erori mari in capetele domeniului de interpolare la Lagrange, din cauza gradului mare al polinomului\n",
    "- complexitate de calcul exponentiala la Neville, daca nu se foloseste memoizarea: $O(2^n)$\n",
    "\n",
    "In aparenta, ar fi necesar un compromis perpetuu intre complexitate si erori. Cu toate acestea, exista moduri in care putem obtine o interpolare buna, fara a face compromisuri: **functiile Spline.** Pentru a scapa de problema polinoamelor de grad mare, ce pot avea oscilatii greu de controlat, se vor interpola cate **2 puncte consecutive**, functiile rezultate fiind alese astfel incat sa rezulte o curba cat mai **neteda**.\n",
    "\n",
    "**Se cauta, deci, o functie $S$ definita pe ramuri. Fiecare dintre aceste ramuri reprezinta o alta functie, numita functie de imbinare:** $\\textbf{$s_0, s_1, \\dots, s_{n -1}$}$ care sa asigure interpolari intre cate 2 puncte consecutive ale functiei date. Putem defini $S(x)$ astfel:\n",
    "\n",
    "$$\n",
    "S(x) = \\begin{cases} s_0(x), & x \\in [x_0, x_1] \\\\ s_1(x), & x \\in [x_1, x_2] \\\\ . \\\\ . \\\\ . \\\\ s_{n - 1}(x), & x \\in [x_{n - 1}, x_n] \\end{cases}\n",
    "$$"
   ]
  },
  {
   "cell_type": "markdown",
   "metadata": {},
   "source": [
    "## 1. Interpolare cu functii de clasa $C^0$\n",
    "\n",
    "Intr-o prima instanta ne punem problema gasirii unei functii $S$ **continue** care sa interpoleze toata functia data si sa treaca prin punctele-suport. Functiile de imbinare $s_0, s_1, \\dots, s_n$ vor fi niste drepte, deci vor fi polinoame de grad 1:\n",
    "\n",
    "$$s_i(x) = a_ix + b_i; \\  a_i, b_i \\in \\mathbb{R}, i = \\overline{0,n - 1}$$\n",
    "\n",
    "Dupa cum se observa, sunt $2n$ necunoscute, $a_i$ si $b_i$ cu $i = \\overline{0,n - 1}$. Deci, vom avea nevoie de $2n$ ecuatii pentru a le determina. Aceste ecuatii rezulta din 2 tipuri de conditii fundamentale pentru interpolarile cu functii Spline:\n",
    "\n",
    "### Conditii de interpolare\n",
    "\n",
    "Aceste conditii se asigura ca $S$ trece prin toate punctele-suport:\n",
    "\n",
    "$s_i(x_i) = f(x_i), \\  i = \\overline{0,n - 1} \\Rightarrow$ **n ecuatii**\n",
    "\n",
    "$s_{n - 1}(x_n) = f(x_n)$\n",
    "\n",
    "### Conditii de racordare\n",
    "\n",
    "Functia $S \\in C^0([x_0, x_n])$, deci este continua, iar conditiile de racordare vizeaza aceasta proprietate:\n",
    "\n",
    "$s_i(x_{i + 1}) = s_{i + 1}(x_{i + 1}), \\  i = \\overline{0,n - 1}  \\Rightarrow$ **alte n ecuatii**\n",
    "\n",
    "In total, din aceste 2 conditii rezulta cele $2n$ ecuatii necesare. Sistemul va fi de forma:\n",
    "\n",
    "$a_ix_i + b_i = f(x_i), \\ i = \\overline{0,n - 1}$\n",
    "\n",
    "$a_{n - 1}x_n + b_n = f(x_n)$\n",
    "\n",
    "$(a_i - a_{i + 1})x_{i + 1} + (b_i - b_{i + 1}) = 0, \\ i = \\overline{0,n - 1}$, trecand membrul drept din conditiile de racordare in partea stanga\n",
    "\n",
    "Dupa rezolvarea acestui sistem, va rezulta o interpolare de forma:\n",
    "\n",
    "![ref1](Spline_C0.png 'Graficul interpolarii cu functii Spline continue, in diverse puncte')\n",
    "\n",
    "Observati natura erorilor in fiecare caz! Asadar, pentru o eroare de ordinul $10^{-3}$ este nevoie in acest caz de de 3 ori mai multe puncte-suport. Pe langa posibilitatea de a a nu dispune de acele puncte suplimentare, calcularea Spline-urilor in acestea ar face ca numarul de operatii sa creasca de $9$ ori (folosind metode iterative, complexitatea de rezolvare a unui sistem este $O(n^2)$).\n",
    "\n",
    "Deci Spline-urile de clasa $C^0$ nu sunt prea eficiente daca numarul de puncte din suportul interpolarii este mic. Daca ne uitam la functia data in graficele de mai sus, aceasta nu pare doar continua, ci pare ca are si **derivata continua**. Ce ar fi sa imitam acest comportament?"
   ]
  },
  {
   "cell_type": "markdown",
   "metadata": {},
   "source": [
    "##  2. Interpolare cu functii de clasa $C^1$\n",
    "\n",
    "### Ce se schimba?\n",
    "\n",
    "Care sunt diferentele dintre o functie de clasa $C^0$ si una de clasa $C^1$? Se pot observa in graficele de mai jos. In cel de sus avem [Fractalul lui Weierstrass](https://en.wikipedia.org/wiki/Weierstrass_function), o functie continua, pe $\\mathbb{R}$, dar nederivabila in niciun punct, iar jos este rezultatul **integrarii** functiei care genereaza acest fractal, adica o functie de clasa $C^1$, dar care nu are derivata de ordin 2 in niciun punct. Observati ca aceasta din urma este mai **neteda**:\n",
    "\n",
    "![ref2](C0vsC1.png 'Functia lui Weierstrass comparata cu una dintre primitivele sale')\n",
    "\n",
    "Nu putem obtine un $S$ de clasa $C^1$ cu polinoame de imbinare de grad 1, ci este nevoie ca functiile de imbinare sa fie **polinoame de grad 3 (functii cubice)**, intrucat cele de grad 2 ce ar rezulta in urma integrarii functiilor de imbinare de mai sus nu sunt destul de flexibile in practica. Pentru usurinta in calcule, vom considera:\n",
    "\n",
    "$$s_i(x) = a_i(x - x_i)^3 + b_i(x - x_i)^2 + c_i(x - x_i) + d_i; \\  a_i, b_i, c_i, d_i \\in \\mathbb{R}, i = \\overline{0,n - 1}$$\n",
    "\n",
    "Acum avem $4n$ necuoscute, deci vom avea nevoie de tot atatea ecuatii. Daca am folosi doar conditiile de interpolare si de racordare de la Spline-urile de clasa $C^0$, la care am adauga conditia ca $S'$ sa fie continua, am avea doar $3n - 1$ ecuatii. Din acest motiv, se impune sa cunoastem si **derivata functiei date** in punctele-suport:\n",
    "\n",
    "### Conditii de interpolare\n",
    "\n",
    "$s_i(x_i) = f(x_i), \\ i = \\overline{0,n - 1} \\Rightarrow n$ ecuatii\n",
    "\n",
    "$s'_i(x_i) = f'(x_i), \\ i = \\overline{0,n - 1} \\Rightarrow n$ ecuatii (aceasta conditie devine necesara din cauza numarului redus de ecuatii)\n",
    "\n",
    "$s_{n - 1}(x_n) = f(x_n)$\n",
    "\n",
    "$s'_{n - 1}(x_n) = f'(x_n)$\n",
    "\n",
    "### Conditii de racordare\n",
    "\n",
    "$s_i(x_{i + 1}) = s_{i + 1}(x_{i + 1}), \\  i = \\overline{0,n - 2}  \\Rightarrow n - 1$ ecuatii\n",
    "\n",
    "$s'_i(x_{i + 1}) = s'_{i + 1}(x_{i + 1}), \\  i = \\overline{0,n - 2}  \\Rightarrow n - 1$ ecuatii\n",
    "\n",
    "Acum am obtinut cele $4n$ ecuatii necesare."
   ]
  },
  {
   "cell_type": "markdown",
   "metadata": {},
   "source": [
    "## 3. Interpolare cu functii de clasa $C^2$\n",
    "\n",
    "Dupa cum s-a vazut, marind clasa unei functii, aceasta devine mai neteda, iar in general, ceea ce se gaseste in natura, deci si datele care vor trebui la un moment dat interpolate sunt modelate dupa functii netede. Din acest motiv, se impune trecerea la interpolare cu functii Spline de clasa $C^2$, astfel incat si **curbura functiilor de imbinare** sa fie avuta in vedere. Amanunte despre utilitatea derivatei a doua se pot vedea in [Anexa](#anexa).\n",
    "\n",
    "De asemenea, utilizarea unor functii Spline de clasa $C^2$ ofera un alt avantaj: acum avem suficiente ecuatii pentru a **nu mai avea nevoie de toate valorile derivatei functiei date**:\n",
    "\n",
    "### Conditii de interpolare\n",
    "\n",
    "$s_i(x_i) = f(x_i), \\ i = \\overline{0,n - 1} \\Rightarrow n$ ecuatii\n",
    "\n",
    "$s_{n - 1}(x_n) = f(x_n)$\n",
    "\n",
    "### Conditii de racordare\n",
    "\n",
    "$s_i(x_{i + 1}) = s_{i + 1}(x_{i + 1}), \\  i = \\overline{0,n - 2}  \\Rightarrow n - 1$ ecuatii\n",
    "\n",
    "$s'_i(x_{i + 1}) = s'_{i + 1}(x_{i + 1}), \\  i = \\overline{0,n - 2}  \\Rightarrow n - 1$ ecuatii\n",
    "\n",
    "$s''_i(x_{i + 1}) = s''_{i + 1}(x_{i + 1}), \\  i = \\overline{0,n - 2}  \\Rightarrow n - 1$ ecuatii\n",
    "\n",
    "In total $\\textbf{4n - 2}$ **ecuatii**, dar ne trebuie $\\textbf{4n}$ **ecuatii**. Din acest motiv, se introduc 2 tipuri de Spline-uri de clasa $C^2$:\n",
    "\n",
    "### Spline-uri naturale\n",
    "\n",
    "Poarta denumirea aceasta deoarece la capetele setului de puncte date, graficul lui $S$ va fi drept, acest lucru datorandu-se alegerii:\n",
    "\n",
    "$$s''(x_0) = 0 \\textrm{ si } s''_{n - 1}(x_n) = 0$$\n",
    "\n",
    "### Spline-uri tensionate\n",
    "\n",
    "Daca este posibil, se prefera sa se lucreze la capetele domeniului de interpolare cu derivatele functiei date, pentru a se utiliza mai multa informatie despre aceasta, aceasta varianta fiind in general mai precisa decat Spline-urile naturale:\n",
    "\n",
    "$$s'(x_0) = f'(x_0) \\textrm{ si } s'_{n - 1}(x_n) = f'(x_n)$$"
   ]
  },
  {
   "cell_type": "markdown",
   "metadata": {},
   "source": [
    "<a id='anexa'></a>\n",
    "\n",
    "# <div style=\"text-align: center\"> Anexa - importanta derivatei a doua </div>\n",
    "\n",
    "&nbsp;&nbsp;&nbsp;&nbsp;&nbsp;&nbsp;&nbsp;&nbsp; Spuneam mai sus ca derivata a doua reprezinta o masura a **curburii** unei functii, mai exact cat de stransa este o curba facuta de aceasta (puteti face analogia cu o curba pe o sosea).\n",
    "\n",
    "&nbsp;&nbsp;&nbsp;&nbsp;&nbsp;&nbsp;&nbsp;&nbsp; Fie o functie $f$ si un punct $P(x, f(x)) \\in G_f$. Atunci $\\exists!$ un cerc de raza $r$ care aproximeaza f intr-o vecinantate a punctului $P$. Mai jos se poate observa acest fenomen pentru o curba $C$:\n",
    "\n",
    "![ref1](Curbura.png 'Aproximarea lui C intr-o vecinatate a lui P')\n",
    "\n",
    "&nbsp;&nbsp;&nbsp;&nbsp;&nbsp;&nbsp;&nbsp;&nbsp; Astfel, putem defini curbura cu semn intr-un punct $x$, $k_x$, ca fiind opusul razei cercului de mai sus. Se poate demonstra urmatoare identitate:\n",
    "\n",
    "$$k_x = \\frac{1}{r} = \\displaystyle\\frac{f''(x)}{(1 + f'^2(x))^\\frac{3}{2}}$$\n",
    "\n",
    "&nbsp;&nbsp;&nbsp;&nbsp;&nbsp;&nbsp;&nbsp;&nbsp; Animatia de mai jos poate exemplifca modificarea curburii in functie de raza cercului:\n",
    "\n",
    "![ref1](Deriv2.gif 'Curbura functiei f(x) = x^3')\n",
    "\n",
    "&nbsp;&nbsp;&nbsp;&nbsp;&nbsp;&nbsp;&nbsp;&nbsp; In mod informal, am putea spune ca a doua derivata a unei functii ilustreaza \"amplitudinea\" curbei acesteia (cat de larga este aceasta curba), iar conditia de continuitate a celei de-a doua derivate ne asigura ca toate schimbarile de curbura ale functiei noastre Spline vor fi line, aceasta devenind astfel mai **neteda**."
   ]
  },
  {
   "cell_type": "code",
   "execution_count": null,
   "metadata": {},
   "outputs": [],
   "source": []
  }
 ],
 "metadata": {
  "kernelspec": {
   "display_name": "Octave",
   "language": "octave",
   "name": "octave"
  },
  "language_info": {
   "file_extension": ".m",
   "help_links": [
    {
     "text": "GNU Octave",
     "url": "https://www.gnu.org/software/octave/support.html"
    },
    {
     "text": "Octave Kernel",
     "url": "https://github.com/Calysto/octave_kernel"
    },
    {
     "text": "MetaKernel Magics",
     "url": "https://github.com/calysto/metakernel/blob/master/metakernel/magics/README.md"
    }
   ],
   "mimetype": "text/x-octave",
   "name": "octave",
   "version": "4.2.2"
  }
 },
 "nbformat": 4,
 "nbformat_minor": 2
}
