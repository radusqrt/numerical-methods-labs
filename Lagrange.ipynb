{
 "cells": [
  {
   "cell_type": "markdown",
   "metadata": {},
   "source": [
    "# Interpolarea Lagrange\n",
    "## Notiuni teoretice\n",
    "\n",
    "Una din cele mai cunoscute metode de interpolare este interpolarea Lagrange. \n",
    "\n",
    "Teorema: \n",
    "    Fie $x_0$, $x_1$, $x_2$,.... ,$x_n$, n+1 numere distincte si f o functie ale carei valori f($x_i$) = $y_i$ ne sunt cunoscute, atunci exista un unic polinom P, numit polinom de interpolare Langrange , de grad cel mult n, care satisface:\n",
    "$$    \n",
    "P(x_i) = y_i,\n",
    "$$ cu i = 0:n\n",
    "\n",
    "In plus, \n",
    "$$\n",
    "        P(x) = f(x_0) * L_{n,0}(x) +....+ f(x_n) * L_{n,n}(x) = \\sum (f(x) * L_{n,k}(x))\n",
    "$$  cu k = 0:n\n",
    "\n",
    "Unde\n",
    "$$\n",
    "L_{n,k}(x)= \\frac{(x-x_0)*\\dots*(x-x_{k-1})*(x-x_{k+1})*\\dots*(x-x_n)}{(x_k-x_0)*\\dots*(x_k-x_{k-1})*(x_k-x_{k+1})*\\dots*(x_k-x_n)}\n",
    "$$\n",
    "\n",
    "        \n",
    "Obtinem \n",
    "$$\n",
    "        L_{n,k}(x) = \\prod\\dfrac{(x-x_i)}{(x_k-x_i)}\n",
    "$$ cu i = 0:n si i != k\n",
    "        \n",
    "Observatii:\n",
    "\n",
    "   -Teorema poate fi vazuta ca o generalizare a faptului ca doua puncte determina in mod unic o dreapta sau a faptului ca 3 puncte determina in mod unic un polinom de grad 2\n",
    "                          \n",
    "   -Se observa usor ca in fiecare punct $x_i$, $L_{n,k}(x_i)$ = 0 cand i != k si 1 cand i = k, obtinandu-se astfel\n",
    "$P(x_i) = y_i$"
   ]
  },
  {
   "cell_type": "markdown",
   "metadata": {},
   "source": [
    "## Exemplu\n",
    "Determinati polinomul (liniar) de interpolare Lagrange care trece prin punctele (2,4) si (5,1).\n",
    "\n",
    "$x_0$ = 2 si $x_1$ = 5 \n",
    "Avem:\n",
    "\n",
    "$L_0(x) = -\\frac{x-5}{3}$ si $L_1(x) = \\frac{x-2}{3}$ \n",
    "\n",
    "P(x) = 4 * $L_0$(x) +  $L_1$(x) = -x + 6\n",
    "\n",
    "Putem testa rezultatul:"
   ]
  },
  {
   "cell_type": "code",
   "execution_count": null,
   "metadata": {},
   "outputs": [],
   "source": [
    "x = [2 5] % valori pt x\n",
    "y = [4 1] % valori pt y\n",
    "n=1 % gradul polinomului cu care aproximam (in sensul celor mai mici patrate)\n",
    "polyfit(x,y,n) % outputul reprezinta coef. pol.\n",
    "\n",
    "% Luati inca un exemplu, unde sa se obtina din Lagrange un polinom de grad 2 spre exemplu,\n",
    "% aflati-l si verificati daca ati facut bine "
   ]
  },
  {
   "cell_type": "markdown",
   "metadata": {},
   "source": [
    "## Exemplu de implementare"
   ]
  },
  {
   "cell_type": "code",
   "execution_count": null,
   "metadata": {},
   "outputs": [],
   "source": [
    "function [y] = lagrange(x, x0, y0)\n",
    "\n",
    "    % x0 - vector care contine x_i\n",
    "    % y0 - vector care contine y_i\n",
    "    % x - punctul x in care vrem sa aproximam\n",
    "    % y - y-ul obtinut\n",
    "\n",
    "    % initializari\n",
    "    n = size(x0, 2); \n",
    "    y = 0;\n",
    "\n",
    "    for i=1:n\n",
    "        p = 1;\n",
    "        for j=1:n\n",
    "            if j == i   % se evita impartirea la 0\n",
    "                continue;\n",
    "            endif;\n",
    "            p =p * (x-x0(j)) / (x0(i)-x0(j));\n",
    "\n",
    "        endfor;\n",
    "        y = y + y0(i) * p;   \n",
    "    endfor;\n",
    "endfunction;"
   ]
  },
  {
   "cell_type": "code",
   "execution_count": null,
   "metadata": {},
   "outputs": [],
   "source": [
    "lagrange(10, x, y)"
   ]
  },
  {
   "cell_type": "markdown",
   "metadata": {},
   "source": [
    "Totusi, in anumite cazuri, cum ar fi un n mare, interpolarea Lagrange nu da o aproximare buna datorita variatiilor mari si neuniforme pe care le poate avea polinomul pe unele intervale, in aceste cazuri fiind preferate alte tipuri de interpolare, pe care le vom studia in continuare.\n",
    "\n",
    "Linkuri utile si alte exemple:\n",
    "\n",
    "http://mathworld.wolfram.com/LagrangeInterpolatingPolynomial.html\n",
    "\n",
    "https://www.geeksforgeeks.org/lagranges-interpolation/"
   ]
  }
 ],
 "metadata": {
  "kernelspec": {
   "display_name": "Octave",
   "language": "octave",
   "name": "octave"
  },
  "language_info": {
   "file_extension": ".m",
   "help_links": [
    {
     "text": "GNU Octave",
     "url": "https://www.gnu.org/software/octave/support.html"
    },
    {
     "text": "Octave Kernel",
     "url": "https://github.com/Calysto/octave_kernel"
    },
    {
     "text": "MetaKernel Magics",
     "url": "https://github.com/calysto/metakernel/blob/master/metakernel/magics/README.md"
    }
   ],
   "mimetype": "text/x-octave",
   "name": "octave",
   "version": "4.4.1"
  },
  "widgets": {
   "application/vnd.jupyter.widget-state+json": {
    "state": {},
    "version_major": 2,
    "version_minor": 0
   }
  }
 },
 "nbformat": 4,
 "nbformat_minor": 2
}
