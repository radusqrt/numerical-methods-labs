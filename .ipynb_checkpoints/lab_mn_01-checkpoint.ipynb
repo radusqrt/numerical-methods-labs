{
 "cells": [
  {
   "cell_type": "markdown",
   "metadata": {},
   "source": [
    "# METODE NUMERICE: Laborator #1\n",
    "# Introducere în Matlab/Octave. Funcții și instrucțiuni.\n",
    "# Fișiere .m. Funcții de citire/scriere de tipul C.\n",
    "## Noțiuni teoretice\n",
    "### Elemente introductive\n",
    "\n",
    "Modelarea problemelor matematice în sistemele informatice se poate face cu ajutorul programelor specializate\n",
    "pentru calcule matematice ([Mathematica](http://www.wolfram.com/mathematica/), [MathCAD](http://www.ptc.com/product/mathcad)) sau cu ajutorul mediilor de programare ([MATLAB](http://www.mathworks.com/products/matlab/), [Maple](http://www.maplesoft.com/products/maple/), [Octave](https://www.gnu.org/software/octave/), [Scilab](http://www.scilab.org)). Vă recomandăm și portalul [WolframAlpha](http://www.wolframalpha.com).\n",
    "\n",
    "MATLAB (MATrix LABoratory) este un set de pachete de programe de înaltă performanță, dedicat calculului numeric și reprezentărilor grafice în domeniul științei și ingineriei. Acesta integrează analiza\n",
    "numerică, calculul matriceal, procesarea semnalului și reprezentările grafice. Limbajul MATLAB a fost\n",
    "creat de profesorul Cleve B. Moler de la Universitatea din New Mexico pentru a permite un acces ușor la\n",
    "bibliotecile de calcul matriceal realizate în Fortran. Octave este implementarea open source pentru o parte\n",
    "din bibliotecile de funcții MATLAB. Vom prezenta în continuare câteva elemente de bază, ca o introducere\n",
    "în MATLAB/Octave.\n",
    "Elementul de bază cu care MATLAB/Octave operează este matricea. În MATLAB/Octave nu se declară\n",
    "variabile (ca în C), și nici nu se folosesc tipuri de date predefinite, deoarece orice set de date manipulat de\n",
    "utilizator este văzut ca o matrice (o zonă continuă de memorie). Toate programele scrise în MATLAB/Octave\n",
    "sunt interpretate (nu compilate) și sunt executate linie cu linie.\n",
    "Se presupune că ați instalat deja Octave. Deschideți terminalul Octave dând dublu-click pe iconița Octave\n",
    "sau scriind octave în consolă sau continuați să executați fiecare operație în acest [notebook](https://jupyter-notebook-beginner-guide.readthedocs.io/en/latest/what_is_jupyter.html). Dacă folosiți terminalul Octave, rețineți că fișierele ulterioare pe care le veți crea trebuie salvate în directorul curent de lucru (comanda\n",
    "`pwd`, similară cu cea din Unix). Semnul `>` reprezintă promptul Octave (poate fi precedat de diverse afișări,\n",
    "de exemplul `octave:x>`, cifra `x` indicând numărul comenzii din sesiunea curentă de lucru)."
   ]
  },
  {
   "cell_type": "code",
   "execution_count": null,
   "metadata": {},
   "outputs": [],
   "source": [
    "pwd"
   ]
  },
  {
   "cell_type": "markdown",
   "metadata": {},
   "source": [
    "În Octave se pot executa majoritatea comenzilor de consolă. Încercați `dir`, `ls`, etc.\n",
    "Funcția `help` permite obținerea unor informații cu caracter general despre comenzile interne și externe\n",
    "Octave. Ea poate fi apelată în mai multe forme:"
   ]
  },
  {
   "cell_type": "code",
   "execution_count": null,
   "metadata": {},
   "outputs": [],
   "source": [
    "help % oferă informații despre elementele limbajului Matlab/Octave și ale fișierelor .m din directorul curent\n",
    "% help <functie> oferă informații despre o funcție."
   ]
  },
  {
   "cell_type": "markdown",
   "metadata": {},
   "source": [
    "Alte funcții folosite pentru controlul general al mediului de lucru sunt:"
   ]
  },
  {
   "cell_type": "code",
   "execution_count": null,
   "metadata": {},
   "outputs": [],
   "source": [
    "what % listează fișiere de tipul .m, .mat etc. din directorul de lucru;"
   ]
  },
  {
   "cell_type": "code",
   "execution_count": null,
   "metadata": {},
   "outputs": [],
   "source": [
    "path % returnează căile cu care lucrează Octave;"
   ]
  },
  {
   "cell_type": "code",
   "execution_count": null,
   "metadata": {},
   "outputs": [],
   "source": [
    "who % listează variabilele curente din memorie;"
   ]
  },
  {
   "cell_type": "code",
   "execution_count": null,
   "metadata": {},
   "outputs": [],
   "source": [
    "whos % listează variabilele curente, dimensiunile și tipul acestora;"
   ]
  },
  {
   "cell_type": "code",
   "execution_count": null,
   "metadata": {},
   "outputs": [],
   "source": [
    "% type - listează fișierul .m menționat;\n",
    "% lookfor - returnează numele fișierelor care au în prima linie a help-ului (linia H1) cuvintele precizate ca argument;\n",
    "% which - calea în care este localizat un fișier sau o funcție Octave;\n",
    "% format - setează formatul de afișare a datelor (shorțlong, short e, long e, hex, plușbank, rat)."
   ]
  },
  {
   "cell_type": "markdown",
   "metadata": {},
   "source": [
    "Pentru a construi o matrice de tip coloană, folosiți comanda:"
   ]
  },
  {
   "cell_type": "code",
   "execution_count": null,
   "metadata": {},
   "outputs": [],
   "source": [
    "v = [0; 1; 2]"
   ]
  },
  {
   "cell_type": "markdown",
   "metadata": {},
   "source": [
    "Pentru a construi o matrice de tip linie, folosiți comanda:"
   ]
  },
  {
   "cell_type": "code",
   "execution_count": null,
   "metadata": {},
   "outputs": [],
   "source": [
    "l = [0 1+5i 2]"
   ]
  },
  {
   "cell_type": "markdown",
   "metadata": {},
   "source": [
    "Observați modul de reprezentare a numerelor complexe. Este unica situație în care se poate exclude\n",
    "semnul de înmulțire `*`, subînțelegându-se coeficientul numărului imaginar i.\n",
    "\n",
    "Pentru a construi o matrice de 2 linii și 3 coloane, folosiți comanda:"
   ]
  },
  {
   "cell_type": "code",
   "execution_count": null,
   "metadata": {},
   "outputs": [],
   "source": [
    "m = [0 1 2; 3 4 5]"
   ]
  },
  {
   "cell_type": "markdown",
   "metadata": {},
   "source": [
    "Se observă că atunci când este întâlnit simbolul `;`, programul consideră că începe o linie nouă în matrice.\n",
    "Cazul pentru o matrice de m linii și n coloane se generalizează similar.\n",
    "Sunt situații când dorim să construim vectori cu elemente multe, cu termeni în progresie aritmetică.\n",
    "Introducerea lor manuală ar lua mult timp, dar există următoarea comandă care simplifică lucrurile:"
   ]
  },
  {
   "cell_type": "code",
   "execution_count": null,
   "metadata": {},
   "outputs": [],
   "source": [
    " % v = [inițial : pas : final]\n",
    " v = [3 : 2 : 13]\n",
    " % v = [inițial : final]\n",
    " v = [5 : 12]"
   ]
  },
  {
   "cell_type": "markdown",
   "metadata": {},
   "source": [
    "Dați diverse valori pasului (chiar și pas negativ), valorii inițiale și celei finale. Puteți modifica celula anterioară sau puteți crea una nouă apăsând butonul `+` din meniul de mai sus. Pentru pas = 1, comanda poate fi dată doar ca `v = [initial : final]` sau chiar `v = initial : final`. Urmăriți rezultatul."
   ]
  },
  {
   "cell_type": "markdown",
   "metadata": {},
   "source": [
    "Construiți un vector cu numerele pare de la 1 la 16."
   ]
  },
  {
   "cell_type": "code",
   "execution_count": null,
   "metadata": {},
   "outputs": [],
   "source": [
    "% TODO\n",
    "v_test = []"
   ]
  },
  {
   "cell_type": "code",
   "execution_count": null,
   "metadata": {
    "editable": false
   },
   "outputs": [],
   "source": [
    "assert(v_test == [2 4 6 8 10 12 14 16])"
   ]
  },
  {
   "cell_type": "markdown",
   "metadata": {},
   "source": [
    "După ce ați construit diverse matrici de tip coloană, linie sau matrice generală, introduceți comenzile:"
   ]
  },
  {
   "cell_type": "code",
   "execution_count": null,
   "metadata": {},
   "outputs": [],
   "source": [
    "length(v)\n",
    "size(m)"
   ]
  },
  {
   "cell_type": "markdown",
   "metadata": {},
   "source": [
    "În timp ce length returnează lungimea unui vector sau a unei linii, size returnează un vector `[nl, nc]`,\n",
    "adică numărul de linii și coloane ale matricei m. Pentru mai multe detalii, tastați help length.\n",
    "La fel ca în C/C++, putem accesa un element al unui vector. În acest scop, folosim comanda v(i), unde\n",
    "i este indicele elementului accesat. Analog pentru o matrice m, folosim `m(i,j)` pentru a accesa elementul\n",
    "de pe linia i, coloana j.\n",
    "ATENTIE! Indicii încep de la 1, nu de la 0 ca în C/C++!!!\n",
    "Pentru a extrage o submatrice dintr-o matrice m, cu liniile l1, l2, l3... și coloanele c1, c2, c3...,\n",
    "construim doi vectori l si c (fie linie, fie coloană, nu are relevanță) și rulați `m(l,c)`:"
   ]
  },
  {
   "cell_type": "code",
   "execution_count": null,
   "metadata": {},
   "outputs": [],
   "source": [
    "m = [0 1 2; 3 4 5; -3 -1 10]\n",
    "m([1 2 3], [2,3])\n",
    "m([1:3], [2,3])"
   ]
  },
  {
   "cell_type": "markdown",
   "metadata": {},
   "source": [
    "Pentru a ascunde rezultatul unei operații în Matlab/Octave, putem încheia instrucțiunea cu `;`. Efectul este același ca atunci când nu se folosește, doar că la ieșire nu se va mai afișa nimic. Uneori este bine să nu folosim `;` pentru a face mai ușor debugging, dar de cele mai multe ori trebuie folosit pentru a nu umple ieșirea de informații nefolositoare."
   ]
  },
  {
   "cell_type": "code",
   "execution_count": null,
   "metadata": {},
   "outputs": [],
   "source": [
    "disp('Fără mesaj:')\n",
    "v = [1 2 3];\n",
    "disp('Cu mesaj:')\n",
    "v = [1 2 3]\n",
    "m(v, [2 3])"
   ]
  },
  {
   "cell_type": "markdown",
   "metadata": {},
   "source": [
    "Am arătat mai multe metode de extragere a unei submatrici. Pentru transpunerea unei matrice, se folosește operatorul `'`. De exemplu, comanda `m'` va returna transpusa (hermitică) matricei m. Putem defini mai multe tipuri de operații aritmetice pe matrice, de exemplu:"
   ]
  },
  {
   "cell_type": "code",
   "execution_count": null,
   "metadata": {},
   "outputs": [],
   "source": [
    "m % afișăm matricea m\n",
    "m' % afișăm transpusa matricei m; m rămâne nemodificat\n",
    "m + 3 % se adună 3 la toate componentele matricei m; m rămâne nemodificat\n",
    "3 * m % se înmulțesc toate componentele matricei m cu 3; m rămâne nemodificat"
   ]
  },
  {
   "cell_type": "code",
   "execution_count": null,
   "metadata": {},
   "outputs": [],
   "source": [
    "n = [2 1; 5 6; 1 7]\n",
    "p = [1 2 3; 4 5 6; 7 8 9]\n",
    "m * n % se înmulțesc două matrici, cu dimensiunile compatibile;\n",
    "m + p % se adună două matrici, cu dimensiunile compatibile;"
   ]
  },
  {
   "cell_type": "code",
   "execution_count": null,
   "metadata": {},
   "outputs": [],
   "source": [
    "m .* p % noua matrice are componentele m(i,j)*p(i,j)."
   ]
  },
  {
   "cell_type": "markdown",
   "metadata": {},
   "source": [
    "Operatorii cu . se numesc operatori Hadamard (notația vine de la produsul Hadamard, dar s-a extins\n",
    "și altori operatori). Acești operatori se aplică elementelor matricilor, element cu element. Considerăm\n",
    "următoarele exemple pentru operatorii Hadamard:"
   ]
  },
  {
   "cell_type": "code",
   "execution_count": null,
   "metadata": {},
   "outputs": [],
   "source": [
    "a = [1 1; 2 3]\n",
    "a ^ 2\n",
    "a .^ 2"
   ]
  },
  {
   "cell_type": "markdown",
   "metadata": {},
   "source": [
    "### Instrucțiuni și funcții Octave.\n",
    "#### Funcții și constante\n",
    "Rulați următoarele comenzi și observați efectul lor:"
   ]
  },
  {
   "cell_type": "code",
   "execution_count": null,
   "metadata": {},
   "outputs": [],
   "source": [
    "cos(pi/3)\n",
    "sin(pi/4)\n",
    "ans\n",
    "inf\n",
    "eps\n",
    "realmax\n",
    "realmin"
   ]
  },
  {
   "cell_type": "markdown",
   "metadata": {},
   "source": [
    "#### Instrucțiuni\n",
    "Instrucțiunea de decizie `if` are sintaxa generală:"
   ]
  },
  {
   "cell_type": "code",
   "execution_count": null,
   "metadata": {},
   "outputs": [],
   "source": [
    "% if condiție\n",
    "% ...\n",
    "% endif\n",
    "if 2 == 2.0\n",
    "    disp('2 is equal to 2.0')\n",
    "endif\n",
    "\n",
    "% if condiție\n",
    "% ...\n",
    "% else / elseif\n",
    "% ...\n",
    "% endif\n",
    "if 2 ~= 2.0\n",
    "    disp('2 is not equal to 2.0')\n",
    "elseif 2 == 2.1\n",
    "    disp('2 is equal to 2.1')\n",
    "else\n",
    "    disp ('2 is not different than 2.0 and not equal to 2.1')\n",
    "endif"
   ]
  },
  {
   "cell_type": "markdown",
   "metadata": {},
   "source": [
    "Bucla `for` are sintaxa generală:"
   ]
  },
  {
   "cell_type": "code",
   "execution_count": null,
   "metadata": {},
   "outputs": [],
   "source": [
    "% for variabila = vector\n",
    "% ...\n",
    "% endfor\n",
    "for i = [7 : 2 : 13]\n",
    "    disp(i)\n",
    "endfor"
   ]
  },
  {
   "cell_type": "markdown",
   "metadata": {},
   "source": [
    "Exemplu de program ce calculează media elementelor unui vector. Pentru a învăța cum se folosește Octave, programul va fi salvat în fișierul cu numele `medie.m` și se va lansa în execuție folosind comanda `medie` din același folder (fără extensia .m). Rezultatul trebuie să fie identic cu cel al celulei următoare."
   ]
  },
  {
   "cell_type": "code",
   "execution_count": null,
   "metadata": {},
   "outputs": [],
   "source": [
    "x = [2 3 4 1 -20];\n",
    "suma = 0;\n",
    "for var = x\n",
    "    suma = suma + var;\n",
    "endfor\n",
    "disp('Media este')\n",
    "disp(suma / length(x))"
   ]
  },
  {
   "cell_type": "markdown",
   "metadata": {},
   "source": [
    "Bucla `while`. Sintaxa generală se poate observa în următorul exemplu:"
   ]
  },
  {
   "cell_type": "code",
   "execution_count": null,
   "metadata": {},
   "outputs": [],
   "source": [
    "x = 1.0;\n",
    "while x < 1000\n",
    "    x = x*2;\n",
    "    disp(x)\n",
    "endwhile"
   ]
  },
  {
   "cell_type": "markdown",
   "metadata": {},
   "source": [
    "#### Funcții în Octave\n",
    "O funcție în Octave are același comportament ca în C/C++: primește parametri, execută instrucțiuni\n",
    "și întoarce un rezultat. Fiecare funcție trebuie definită într-un fișier separațiar numele funcției trebuie\n",
    "să coincidă cu numele fișierului (exceptând extensia .m). Exemplu de funcție care calculează suma a două\n",
    "numere/vectori/matrice:"
   ]
  },
  {
   "cell_type": "code",
   "execution_count": null,
   "metadata": {},
   "outputs": [],
   "source": [
    "function [s] = suma(a,b)\n",
    "    s = a + b;\n",
    "endfunction"
   ]
  },
  {
   "cell_type": "markdown",
   "metadata": {},
   "source": [
    "Această funcție poate fi salvată într-un fișier cu numele `suma.m`. Un exemplu de apel al funcției este:\n",
    "`suma(3,2)` (testați și apelul `suma(2:5,3:6)`).\n",
    "Putem avea și funcții `void`, de tipul `function funcție(parametri)`. Se pot returna și mai multe\n",
    "rezultate (un vector de rezultate), în felul următor:\n",
    "`function [x y z] = functie(parametri)`."
   ]
  },
  {
   "cell_type": "code",
   "execution_count": null,
   "metadata": {},
   "outputs": [],
   "source": [
    "suma(3,2)\n",
    "suma(2:5, 3:6)"
   ]
  },
  {
   "cell_type": "markdown",
   "metadata": {},
   "source": [
    "### Funcții de citire/scriere de tipul C\n",
    "#### Deschiderea fișierelor\n",
    "Înaintea citirii și scrierii dintr-un fișier (text sau binar), acesta trebuie deschis folosind comanda fopen\n",
    "ce are una din formele:\n",
    "`fid = fopen(’numefis’,’mod’), [fid, mesaj] = fopen(’numefis’, ’mod’)`\n",
    "Modul (sau permisiunea) poate fi una din alternativele:\n",
    "`r, w, a % numai pentru citire, scriere, respectiv adăugare; r+ % atât pentru citire cât și pentru scriere.`\n",
    "Dacă operația de deschidere fișier reușește, fopen întoarce un întreg nenegativ, numit identificator de\n",
    "fișier (fid). Valoarea aceasta este transmisă ca argument altor funcții de I/E care accesează fișierul deschis.\n",
    "Dacă deschiderea fișierului eșuează, întrucât fișierul nu există, fid primește valoarea -1. Fișierele standard\n",
    "nu trebuie deschise. Fișierul standard de ieșire are identificatorul `fid = 1`, iar fișierul standard de eroare\n",
    "`fid = 2`. Deschideți pentru citire un fișier, al cărui nume îl introduceți de la tastatură. Afișați mesajul care\n",
    "specifică dacă operația de deschidere a reușit sau nu.\n",
    "\n",
    "încercați să deschideți fișierul `non-existent`, iar apoi deschideți fișierul `to_be_printed`."
   ]
  },
  {
   "cell_type": "code",
   "execution_count": null,
   "metadata": {},
   "outputs": [],
   "source": [
    "fid = 0;\n",
    "while fid < 1\n",
    "    numefisier = input('Deschide fisier: ', 's');\n",
    "    [fid, mesaj] = fopen(numefisier);\n",
    "    if fid == -1\n",
    "        disp(mesaj);\n",
    "    endif\n",
    "endwhile"
   ]
  },
  {
   "cell_type": "markdown",
   "metadata": {},
   "source": [
    "Funcția `input` permite introducerea de date de la tastatură. șirul de caractere dat ca prim parametru\n",
    "va fi afișat. Al doilea parametru s arată că datele introduse sunt caractere.\n",
    "Funcția `disp` afișează un șir de caractere la consolă.\n",
    "#### Scrierea datelor formatate în fișiere text"
   ]
  },
  {
   "cell_type": "markdown",
   "metadata": {},
   "source": [
    "`contor = fprintf(fid, formațA, ...)`\n",
    "\n",
    "Funcția întoarce numărul de octeți transferați. Descriptorii de format sunt aceiași din C. Există descriptorii\n",
    "specifici MATLAB/Octave:\n",
    "\n",
    "`%bx % afișare valoare double în hexazecimal; %tx % afișare valoare float în hexazecimal.`\n",
    "\n",
    "Descriptorii pot fi precedați de caracterele: `-,+, ,0`, cu semnificațiile:\n",
    "`’-’ % aliniere stânga; ’+’ % afișează întotdeauna cu semn; ’ ’ % inserează un spațiu înaintea valorii afișate; ’0’ % pune zerouri în locul spațiilor.`\n",
    "\n",
    "Citirea datelor formatate din fișiere text\n",
    "`A = fscanf(fid, format); [A, contor] = fscanf(fid, formațdimensiune);`\n",
    "\n",
    "Prima formă citește date până la sfârșitul fișierului. Cea de-a doua formă citește date de o dimensiune\n",
    "dată ca parametru de intrare. Pentru a specifica dimensiunea datelor se utilizează una din variantele:\n",
    "n % cel mult n numere, caractere sau șiruri;\n",
    "inf % până la sfârșitul fișierului;\n",
    "[m,n] % cel mult m*n valori, care completează o matrice\n",
    "% pe coloane.\n",
    "Funcția fscanf este vectorizată și întoarce un argument matrice. Funcția acceptă și valorile -inf,\n",
    "+inf, NaN, pe care le convertește în reprezentările numerice corespunzătoare.\n",
    "O linie din fișier se citește cu funcția linie = fgetl(fid, LEN). Dacă se întâlnește eof, funcția\n",
    "fgetl întoarce -1. Parametrul LEN indică numărul de caractere de citit. Dacă acest parametru este omiș\n",
    "se va citi până la întâlnirea terminatorului de linie."
   ]
  },
  {
   "cell_type": "code",
   "execution_count": null,
   "metadata": {},
   "outputs": [],
   "source": [
    "fid = fopen('to_be_printed');\n",
    "while 1\n",
    "    linie = fgetl(fid);\n",
    "    if ~ischar(linie)\n",
    "        break\n",
    "    end\n",
    "    disp(linie);\n",
    "endwhile\n",
    "fclose(fid);"
   ]
  },
  {
   "cell_type": "markdown",
   "metadata": {},
   "source": [
    "#### Controlul poziției în fișier\n",
    "Funcția fseek ne permite să ne poziționăm oriunde în fișier:\n",
    "`stare = fseek(fid, deplasare, origine)`\n",
    "Parametrul origine poate lua una din valorile:\n",
    "\n",
    "`'bof' % față de începutul fișierului;\n",
    "'cof' % față de poziția curentă\n",
    "'eof' % față de sfârșitul fișierului`\n",
    "\n",
    "Parametrul deplasare este o valoare pozitivă sau negativă exprimată în octeți și raportată la origine.\n",
    "Funcția ftell determină poziția curentă în fișier, față de începutul fișierului:\n",
    "`pozitie = ftell(fid)`\n",
    "### Exportul și importul datelor\n",
    "Pentru memorarea variabilelor cu care se lucrează, la încheierea unei sesiuni de lucru, se poate utiliza\n",
    "comanda save file. Această comandă va salva toate variabilele curente, generate de către utilizator,\n",
    "într-un fișier dat ca parametru prin file. De exemplu:\n",
    "`save date A B x y`\n",
    "realizează memorarea variabilelor A, B, x, y în fișierul date.mat. Pentru obținerea variabilelor păstrate\n",
    "într-un fișier .mat se folosește comanda load.\n",
    "### Vectorizări\n",
    "Operațiile cu vectori și matrice sunt executate de MATLAB mult mai repede decât operațiile de interpretare\n",
    "a instrucțiunilor și executare a lor. Obținem astfel o îmbunătățire a timpului de execuție pentru\n",
    "programele scrise. Vectorizarea constă în transformarea ciclurilor for și while, acolo unde este posibil, în\n",
    "operații pe vectori sau matrice. De exemplu, soluția alternativă pentru secvența:\n",
    "`for n = 1:10\n",
    "x(n) = sin(n * pi / 5)\n",
    "end`\n",
    "este o soluție vectorizată, mult mai rapidă, atribuind memorie pentru vectorul x o singură dată. Mai întâi,\n",
    "se inițializează vectorul, apoi se folosește funcția sin care a fost implementată optimizat pentru calcule\n",
    "vectorizate."
   ]
  },
  {
   "cell_type": "code",
   "execution_count": null,
   "metadata": {},
   "outputs": [],
   "source": [
    "n = 1:10\n",
    "x = sin(n * pi / 5)"
   ]
  },
  {
   "cell_type": "markdown",
   "metadata": {},
   "source": [
    "## Probleme rezolvate\n",
    "Vom prezenta, în continuare, alte exemple de vectorizări în care am folosit puterea operatorilor logici și\n",
    "a funcțiilor Octave.\n",
    "### Exemplul 1"
   ]
  },
  {
   "cell_type": "code",
   "execution_count": null,
   "metadata": {},
   "outputs": [],
   "source": [
    "x = -2 : 0.5 : 2;\n",
    "for i = 1 : length(x)\n",
    "    if x(i)>=0\n",
    "        s(i) = sqrt(x(i));\n",
    "    else\n",
    "        s(i) = 0;\n",
    "    endif\n",
    "endfor\n",
    "\n",
    "disp(s)"
   ]
  },
  {
   "cell_type": "code",
   "execution_count": null,
   "metadata": {},
   "outputs": [],
   "source": [
    "x = -2 : 0.5 : 2;\n",
    "s = sqrt(x);\n",
    "s(x < 0) = 0;\n",
    "\n",
    "disp(s)"
   ]
  },
  {
   "cell_type": "markdown",
   "metadata": {},
   "source": [
    "În acest exemplu, ne-am bazat pe faptul că funcția sqrt primește ca parametri și numere negative, având\n",
    "ca rezultat un număr complex. Am folosit operatorul `<` care pentru vectori are ca rezultat un alt vector cu\n",
    "1 pe pozițiile ce satisfac condiția. Mai mult, am utilizat indexarea unui vector prin intermediul altui vector."
   ]
  },
  {
   "cell_type": "markdown",
   "metadata": {},
   "source": [
    "### Exemplul 2"
   ]
  },
  {
   "cell_type": "code",
   "execution_count": null,
   "metadata": {},
   "outputs": [],
   "source": [
    "M = magic(3);\n",
    "for i = 1 : 3\n",
    "    for j = 1 : 3,\n",
    "        if (M(i,j) > 4)\n",
    "            M(i,j) = -M(i,j);\n",
    "        endif\n",
    "    endfor\n",
    "endfor\n",
    "\n",
    "disp(M)"
   ]
  },
  {
   "cell_type": "markdown",
   "metadata": {},
   "source": [
    "În acest exemplu, secvența care folosește bucla for se execută în 23.4956 unități de timp iar secvența\n",
    "vectorizată, prin intermediul funcției find, se execută în 2.1153 unități de timp, deci de 11 ori mai rapid."
   ]
  },
  {
   "cell_type": "code",
   "execution_count": null,
   "metadata": {},
   "outputs": [],
   "source": [
    "ind = find(M > 4);\n",
    "M(ind) = -M(ind);\n",
    "\n",
    "disp(M)"
   ]
  },
  {
   "cell_type": "code",
   "execution_count": null,
   "metadata": {},
   "outputs": [],
   "source": [
    "V = 'Sunt     multe      spații albe   în          acest  text.';\n",
    "len = length(V);\n",
    "i = 1;\n",
    "while (i<len)\n",
    "    if (V(i) == ' ' && V(i+1) == ' ')\n",
    "        for j = i:len-1\n",
    "            V(j) = V(j+1);\n",
    "        endfor\n",
    "        V(len) = 0;\n",
    "        len = len-1;\n",
    "    else\n",
    "        i = i+1;\n",
    "    endif\n",
    "endwhile\n",
    "V = char(V);\n",
    "\n",
    "disp(V)"
   ]
  },
  {
   "cell_type": "markdown",
   "metadata": {},
   "source": [
    "Un alt exemplu de vectorizare care folosește funcții specifice operațiilor cu vectori precum filter și\n",
    "find (findstr)."
   ]
  },
  {
   "cell_type": "code",
   "execution_count": null,
   "metadata": {},
   "outputs": [],
   "source": [
    "V = 'Sunt     multe      spații albe   în          acest  text.';\n",
    "ind = find(filter([1 1], 2, V==' ') == 1);\n",
    "V(ind) = [];\n",
    "\n",
    "disp(V)"
   ]
  },
  {
   "cell_type": "markdown",
   "metadata": {},
   "source": [
    "sau, o altă metodă care elimină toate spațiile:"
   ]
  },
  {
   "cell_type": "code",
   "execution_count": null,
   "metadata": {},
   "outputs": [],
   "source": [
    "V = 'Sunt     multe      spații albe   în          acest  text.';\n",
    "ind = findstr(V,' ');\n",
    "V(ind) = [];\n",
    "\n",
    "disp(V)"
   ]
  },
  {
   "cell_type": "markdown",
   "metadata": {},
   "source": [
    "### Exemplul 4\n",
    "Folosirea operatorilor Hadamard poate conduce la eliminarea buclelor și vectorizarea unei secvențe de\n",
    "program. De exemplu, secvența:"
   ]
  },
  {
   "cell_type": "code",
   "execution_count": null,
   "metadata": {},
   "outputs": [],
   "source": [
    "A = [1 2; 3 4];\n",
    "B = [1.02 2.12; pi eps];\n",
    "C = [10 20; 40 30];\n",
    "n = length(A);\n",
    "\n",
    "for i = 1 : n\n",
    "    for j = 1 : n\n",
    "        M(i,j) = A(i,j)/(B(i,j)*C(i,j));\n",
    "    end\n",
    "end\n",
    "\n",
    "disp(M)"
   ]
  },
  {
   "cell_type": "markdown",
   "metadata": {},
   "source": [
    "se poate transforma în urma folosirii operatorilor ./ și .* în:"
   ]
  },
  {
   "cell_type": "code",
   "execution_count": null,
   "metadata": {},
   "outputs": [],
   "source": [
    "M = A./(B.*C);\n",
    "\n",
    "disp(M)"
   ]
  },
  {
   "cell_type": "markdown",
   "metadata": {},
   "source": [
    "Este recomandat ca ori de câte ori folosiți o funcție Octave, în interiorul unei bucle, să verificați (consultând\n",
    "help-ul Octave) dacă aceasta poate fi de folos la vectorizarea calculului. De asemenea, țineți cont de\n",
    "faptul că operațiile logice din instrucțiunile de ramificare pot ajuta la vectorizare.\n",
    "## Probleme propuse"
   ]
  },
  {
   "cell_type": "markdown",
   "metadata": {},
   "source": [
    "### Problema 1\n",
    "Scrieți fișierul `valori.txt` cu valorile funcției `f(x) = 2x + 1` pe intervalul [0, 1] și pasul 0.1."
   ]
  },
  {
   "cell_type": "code",
   "execution_count": null,
   "metadata": {},
   "outputs": [],
   "source": [
    "% TODO: Scrieți codul în această celulă\n",
    "% HINT: Puteți folosi funcția `dlmwrite` dacă nu doriți să folosiți `fopen`"
   ]
  },
  {
   "cell_type": "code",
   "execution_count": null,
   "metadata": {
    "editable": false
   },
   "outputs": [],
   "source": [
    "v_test = dlmread('valori.txt');\n",
    "assert(v_test, [1, 1.2, 1.4, 1.6, 1.8, 2, 2.2, 2.4, 2.6, 2.8, 3])"
   ]
  },
  {
   "cell_type": "markdown",
   "metadata": {},
   "source": [
    "### Problema 2\n",
    "Scrieți o funcție care să calculeze suma numerelor impare mai mici ca n utilizând bucla for. Aceeași\n",
    "problemă utilizând bucla while. Citirea unui numar de la tastatură se face utilizând comanda:\n",
    "`var = input(’Introduceți variabila:’)`."
   ]
  },
  {
   "cell_type": "code",
   "execution_count": null,
   "metadata": {},
   "outputs": [],
   "source": [
    "% TODO: Scrieți codul care definește funcția în această celulă\n",
    "function [result] = odd_sum()\n",
    "    n = input(’Introduceți variabila:’)\n",
    "    % Atribuiți-i variabilei `result` rezultatul dorit\n",
    "    result = NaN\n",
    "endfunction"
   ]
  },
  {
   "cell_type": "markdown",
   "metadata": {},
   "source": [
    "### Problema 3\n",
    "Scrieți o funcție care citește o matrice pătratică din fișier și verifică dacă matricea are proprietățile unui\n",
    "pătrat magic (suma elementelor pe linii, coloane și diagonale este aceeași)."
   ]
  },
  {
   "cell_type": "code",
   "execution_count": null,
   "metadata": {},
   "outputs": [],
   "source": [
    "% TODO: Scrieți codul care definește funcția în această celulă\n",
    "function [result] = is_magic(M)\n",
    "    % Atribuiți-i variabilei `result` rezultatul dorit\n",
    "    result = NaN\n",
    "endfunction"
   ]
  },
  {
   "cell_type": "code",
   "execution_count": null,
   "metadata": {
    "editable": false
   },
   "outputs": [],
   "source": [
    "assert(is_magic(magic(3)) == true)\n",
    "assert(is_magic(rand(3)) == false)"
   ]
  },
  {
   "cell_type": "markdown",
   "metadata": {},
   "source": [
    "### Problema 4\n",
    "Scrieți o funcție pentru determinarea dimensiunii unui fișier. Funcția are ca parametru numele fișierului."
   ]
  },
  {
   "cell_type": "code",
   "execution_count": null,
   "metadata": {},
   "outputs": [],
   "source": [
    "% TODO: Scrieți codul care definește funcția în această celulă\n",
    "function [result] = file_size(filename)\n",
    "    % Atribuiți-i variabilei `result` rezultatul dorit\n",
    "    result = NaN\n",
    "endfunction"
   ]
  },
  {
   "cell_type": "code",
   "execution_count": null,
   "metadata": {
    "editable": false
   },
   "outputs": [],
   "source": [
    "assert(file_size('to_be_printed') == 28)"
   ]
  },
  {
   "cell_type": "markdown",
   "metadata": {},
   "source": [
    "### Problema 5\n",
    "Scrieți o funcție care citește un fișier text linie cu linie și întoarce numărul total de apariții ale unui\n",
    "anumit șir de caractere în fișier. Funcția va afișa fiecare linie din fișier, precedată de numărul de apariții ale\n",
    "șirului în linie. La final, se va afisa numărul total de apariții și va fi și valoarea întoarsă de funcție."
   ]
  },
  {
   "cell_type": "code",
   "execution_count": null,
   "metadata": {},
   "outputs": [],
   "source": [
    "% TODO: Scrieți codul care definește funcția în această celulă\n",
    "function [result] = NumarAparitii(numefisier, sir)\n",
    "    % Atribuiți-i variabilei `result` rezultatul dorit (numărul total de apariții)\n",
    "    result = NaN\n",
    "endfunction"
   ]
  },
  {
   "cell_type": "code",
   "execution_count": null,
   "metadata": {
    "editable": false
   },
   "outputs": [],
   "source": [
    "assert(NumarAparitii('to_be_printed', 'Line') == 2)\n",
    "assert(NumarAparitii('to_be_printed', 'line') == 1)"
   ]
  }
 ],
 "metadata": {
  "celltoolbar": "Edit Metadata",
  "kernelspec": {
   "display_name": "Python 3",
   "language": "python",
   "name": "python3"
  },
  "language_info": {
   "codemirror_mode": {
    "name": "ipython",
    "version": 3
   },
   "file_extension": ".py",
   "mimetype": "text/x-python",
   "name": "python",
   "nbconvert_exporter": "python",
   "pygments_lexer": "ipython3",
   "version": "3.5.2"
  }
 },
 "nbformat": 4,
 "nbformat_minor": 2
}
